{
 "cells": [
  {
   "cell_type": "code",
   "execution_count": 2,
   "metadata": {
    "collapsed": true
   },
   "outputs": [],
   "source": [
    "import pandas as pd\n",
    "from impala.dbapi import connect\n",
    "from impala.util import as_pandas\n",
    "import ast\n",
    "import math\n",
    "\n",
    "import redis_io as redis_io\n",
    "\n",
    "##############################################################################################################\n",
    "# REDIS-KEY\n",
    "##############################################################################################################\n",
    "# monthly_sales_vol:{year}   << agg_montly_sales_volumn(year,unit_numofproduct, unit_totalamount)\n",
    "# desc_total_sales_vol:{year}   << def desc_total_sales_volumn(year):\n",
    "# monthly_total_amount_per_cate:{year}   << def agg_montly_total_amount_by_product_cate(year):\n",
    "# monthly_total_amount_per_product:{year}   << def agg_montly_total_amount_by_product(year, product_cate):\n",
    "# timebase_sales_amount:{year}:{day_of_week}  << def analysis_timebase_sales_amount(year, day_of_week):\n",
    "##############################################################################################################\n",
    "\n",
    "def agg_montly_sales_volumn(year,unit_numofproduct, unit_totalamount):\n",
    "    \n",
    "    # Redis read cache value\n",
    "    REDIS_KEY = \"monthly_sales_vol:{0}\".format(year)\n",
    "    cached_monthly_sales_vol = redis_io.read_transaction(REDIS_KEY)\n",
    "    \n",
    "    if cached_monthly_sales_vol != None:\n",
    "        return cached_monthly_sales_vol\n",
    "    #\n",
    "    \n",
    "    conn = connect(host='salest-master-server', port=21050)\n",
    "    cur = conn.cursor()\n",
    "\n",
    "    cur.execute('USE salest')\n",
    "    cur.execute(\"\"\"\n",
    "        SELECT year_month, SUM(num_of_product) AS num_of_product, SUM(sales_amount) AS total_amount\n",
    "        FROM (\n",
    "            SELECT SUBSTR(date_receipt_num,1,7) AS year_month, num_of_product, sales_amount\n",
    "            FROM ext_tr_receipt WHERE SUBSTR(date_receipt_num,1,4) = '\"\"\" + year +\n",
    "        \"\"\"'\n",
    "        ) view_tr_recipt\n",
    "        GROUP BY year_month ORDER BY year_month ASC\n",
    "        \"\"\"\n",
    "    )\n",
    "    df = as_pandas(cur)\n",
    "    conn.close()\n",
    "    \n",
    "    ### Fill non-included monthly row with zero base values.\n",
    "    month_index_arr = []\n",
    "\n",
    "    for month in range(1,13):\n",
    "        month_index_arr.append(\"{0}-{1:02d}\".format(year,month))\n",
    "    \n",
    "    df_base_index = pd.DataFrame(data=month_index_arr, columns=['year_month'])\n",
    "    df_all_monatly_sales_volume = pd.merge(df, df_base_index, on='year_month',how='outer').fillna(0).sort_values(by='year_month',ascending='1')\n",
    "    ###\n",
    "\n",
    "    df_list = list(df_all_monatly_sales_volume.itertuples(index=False))\n",
    "    df_column_name_list = list(df.columns.values)\n",
    "\n",
    "    list_month_sales_volume = []\n",
    "    dict_month_sales_volume = {}\n",
    "\n",
    "    for row in df_list:\n",
    "        dict_month_sales_volume = {}\n",
    "        \n",
    "        for key,value in zip(df_column_name_list, row):\n",
    "            if(key=='num_of_product'):\n",
    "                value = int(round(value / unit_numofproduct))\n",
    "            if(key=='total_amount'):\n",
    "                value = int(round(value / unit_totalamount))\n",
    "            dict_month_sales_volume[key] = value\n",
    "        \n",
    "        list_month_sales_volume.append(dict_month_sales_volume.copy())\n",
    "\n",
    "    # Redis save cache value\n",
    "    redis_io.write_transaction(REDIS_KEY, list_month_sales_volume)\n",
    "    #\n",
    "    \n",
    "    return list_month_sales_volume\n",
    "\n"
   ]
  },
  {
   "cell_type": "code",
   "execution_count": 3,
   "metadata": {
    "collapsed": false
   },
   "outputs": [
    {
     "data": {
      "text/plain": [
       "[{'num_of_product': 1621, 'total_amount': 450, 'year_month': '2015-01'},\n",
       " {'num_of_product': 1582, 'total_amount': 450, 'year_month': '2015-02'},\n",
       " {'num_of_product': 1747, 'total_amount': 505, 'year_month': '2015-03'},\n",
       " {'num_of_product': 1317, 'total_amount': 379, 'year_month': '2015-04'},\n",
       " {'num_of_product': 2585, 'total_amount': 651, 'year_month': '2015-05'},\n",
       " {'num_of_product': 2091, 'total_amount': 574, 'year_month': '2015-06'},\n",
       " {'num_of_product': 2335, 'total_amount': 671, 'year_month': '2015-07'},\n",
       " {'num_of_product': 2984, 'total_amount': 855, 'year_month': '2015-08'},\n",
       " {'num_of_product': 1997, 'total_amount': 598, 'year_month': '2015-09'},\n",
       " {'num_of_product': 1889, 'total_amount': 537, 'year_month': '2015-10'},\n",
       " {'num_of_product': 1291, 'total_amount': 391, 'year_month': '2015-11'},\n",
       " {'num_of_product': 1343, 'total_amount': 395, 'year_month': '2015-12'}]"
      ]
     },
     "execution_count": 3,
     "metadata": {},
     "output_type": "execute_result"
    }
   ],
   "source": [
    "agg_montly_sales_volumn('2015',1,10000)"
   ]
  },
  {
   "cell_type": "code",
   "execution_count": 5,
   "metadata": {
    "collapsed": false
   },
   "outputs": [],
   "source": [
    "redis_io.read_transaction(\"monthly_sales_vol:2015\")"
   ]
  },
  {
   "cell_type": "code",
   "execution_count": null,
   "metadata": {
    "collapsed": true
   },
   "outputs": [],
   "source": []
  }
 ],
 "metadata": {
  "kernelspec": {
   "display_name": "Python 2",
   "language": "python",
   "name": "python2"
  },
  "language_info": {
   "codemirror_mode": {
    "name": "ipython",
    "version": 2
   },
   "file_extension": ".py",
   "mimetype": "text/x-python",
   "name": "python",
   "nbconvert_exporter": "python",
   "pygments_lexer": "ipython2",
   "version": "2.7.5"
  }
 },
 "nbformat": 4,
 "nbformat_minor": 0
}
