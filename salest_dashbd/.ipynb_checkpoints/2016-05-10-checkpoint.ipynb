{
 "cells": [
  {
   "cell_type": "code",
   "execution_count": 1,
   "metadata": {
    "collapsed": true
   },
   "outputs": [],
   "source": [
    "import data_query as dao\n",
    "\n",
    "date = \"2016-05-10\"\n",
    "\n",
    "pastDictData = dao.get_timebase_data_on_past_specific_date(date)\n",
    "todayDictData = dao.get_timebase_data_on_today_specific_date(date)"
   ]
  },
  {
   "cell_type": "code",
   "execution_count": 2,
   "metadata": {
    "collapsed": false
   },
   "outputs": [
    {
     "data": {
      "text/plain": [
       "{'10': '0',\n",
       " '11': '0',\n",
       " '12': '3800',\n",
       " '13': '28900',\n",
       " '14': '50600',\n",
       " '15': '28800',\n",
       " '16': '29600',\n",
       " '17': '25000',\n",
       " '18': '24000',\n",
       " '19': '7100',\n",
       " '20': '12200',\n",
       " '21': '25700',\n",
       " '22': '14400',\n",
       " '23': '0',\n",
       " 'date': '2015-05-12'}"
      ]
     },
     "execution_count": 2,
     "metadata": {},
     "output_type": "execute_result"
    }
   ],
   "source": [
    "pastDictData"
   ]
  },
  {
   "cell_type": "code",
   "execution_count": 3,
   "metadata": {
    "collapsed": false
   },
   "outputs": [
    {
     "data": {
      "text/plain": [
       "{'10': '0',\n",
       " '11': '0',\n",
       " '12': '0',\n",
       " '13': '0',\n",
       " '14': '0',\n",
       " '15': '0',\n",
       " '16': '0',\n",
       " '17': '0',\n",
       " '18': '0',\n",
       " '19': '216000',\n",
       " '20': '0',\n",
       " '21': '0',\n",
       " '22': '0',\n",
       " '23': '0'}"
      ]
     },
     "execution_count": 3,
     "metadata": {},
     "output_type": "execute_result"
    }
   ],
   "source": [
    "todayDictData"
   ]
  },
  {
   "cell_type": "code",
   "execution_count": 14,
   "metadata": {
    "collapsed": false,
    "scrolled": true
   },
   "outputs": [
    {
     "data": {
      "text/plain": [
       "{'2015-05-12': {...}}"
      ]
     },
     "execution_count": 14,
     "metadata": {},
     "output_type": "execute_result"
    }
   ],
   "source": [
    "list_merged_data = []\n",
    "\n",
    "for key in todayDictData.keys():\n",
    "    dict_merged_data = {}\n",
    "    dict_merged_data['H'] = key\n",
    "    dict_merged_data['past'] = pastDictData[key]\n",
    "    dict_merged_data['today'] = todayDictData[key]\n",
    "    list_merged_data.append(dict_merged_data)\n",
    "    \n",
    "dict_result = {}\n",
    "dict_result[pastDictData['date']] = list_merged_data\n",
    "\n",
    "dict_result"
   ]
  },
  {
   "cell_type": "code",
   "execution_count": 13,
   "metadata": {
    "collapsed": false
   },
   "outputs": [
    {
     "data": {
      "text/plain": [
       "{'2015-05-12': {...}}"
      ]
     },
     "execution_count": 13,
     "metadata": {},
     "output_type": "execute_result"
    }
   ],
   "source": [
    "dict_result['2015-05-12']"
   ]
  },
  {
   "cell_type": "code",
   "execution_count": null,
   "metadata": {
    "collapsed": true
   },
   "outputs": [],
   "source": []
  }
 ],
 "metadata": {
  "kernelspec": {
   "display_name": "Python 2",
   "language": "python",
   "name": "python2"
  },
  "language_info": {
   "codemirror_mode": {
    "name": "ipython",
    "version": 2
   },
   "file_extension": ".py",
   "mimetype": "text/x-python",
   "name": "python",
   "nbconvert_exporter": "python",
   "pygments_lexer": "ipython2",
   "version": "2.7.5"
  }
 },
 "nbformat": 4,
 "nbformat_minor": 0
}
