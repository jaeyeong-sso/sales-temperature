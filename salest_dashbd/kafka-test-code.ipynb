{
 "cells": [
  {
   "cell_type": "code",
   "execution_count": 7,
   "metadata": {
    "collapsed": false
   },
   "outputs": [
    {
     "name": "stdout",
     "output_type": "stream",
     "text": [
      "ConsumerRecord(topic=u'my-topic', partition=0, offset=0, key=None, value='test')\n",
      "ConsumerRecord(topic=u'my-topic', partition=0, offset=1, key=None, value='\\xc2Hola, mundo!')\n",
      "ConsumerRecord(topic=u'my-topic', partition=0, offset=2, key=None, value='test')\n",
      "ConsumerRecord(topic=u'my-topic', partition=0, offset=3, key=None, value='\\xc2Hola, mundo!')\n",
      "ConsumerRecord(topic=u'my-topic', partition=0, offset=4, key=None, value='test')\n",
      "ConsumerRecord(topic=u'my-topic', partition=0, offset=5, key=None, value='\\xc2Hola, mundo!')\n",
      "ConsumerRecord(topic=u'my-topic', partition=0, offset=6, key=None, value='test')\n",
      "ConsumerRecord(topic=u'my-topic', partition=0, offset=7, key=None, value='\\xc2Hola, mundo!')\n",
      "ConsumerRecord(topic=u'my-topic', partition=0, offset=8, key=None, value='test')\n",
      "ConsumerRecord(topic=u'my-topic', partition=0, offset=9, key=None, value='\\xc2Hola, mundo!')\n",
      "ConsumerRecord(topic=u'my-topic', partition=0, offset=10, key=None, value='test')\n",
      "ConsumerRecord(topic=u'my-topic', partition=0, offset=11, key=None, value='\\xc2Hola, mundo!')\n",
      "ConsumerRecord(topic=u'my-topic', partition=0, offset=12, key=None, value='test')\n",
      "ConsumerRecord(topic=u'my-topic', partition=0, offset=13, key=None, value='\\xc2Hola, mundo!')\n",
      "ConsumerRecord(topic=u'my-topic', partition=0, offset=14, key=None, value='test')\n",
      "ConsumerRecord(topic=u'my-topic', partition=0, offset=15, key=None, value='\\xc2Hola, mundo!')\n"
     ]
    },
    {
     "ename": "KeyboardInterrupt",
     "evalue": "",
     "output_type": "error",
     "traceback": [
      "\u001b[1;31m---------------------------------------------------------------------------\u001b[0m",
      "\u001b[1;31mKeyboardInterrupt\u001b[0m                         Traceback (most recent call last)",
      "\u001b[1;32m<ipython-input-7-3aa90f9d9866>\u001b[0m in \u001b[0;36m<module>\u001b[1;34m()\u001b[0m\n\u001b[0;32m     44\u001b[0m         \u001b[0mlevel\u001b[0m\u001b[1;33m=\u001b[0m\u001b[0mlogging\u001b[0m\u001b[1;33m.\u001b[0m\u001b[0mINFO\u001b[0m\u001b[1;33m\u001b[0m\u001b[0m\n\u001b[0;32m     45\u001b[0m         )\n\u001b[1;32m---> 46\u001b[1;33m     \u001b[0mmain\u001b[0m\u001b[1;33m(\u001b[0m\u001b[1;33m)\u001b[0m\u001b[1;33m\u001b[0m\u001b[0m\n\u001b[0m",
      "\u001b[1;32m<ipython-input-7-3aa90f9d9866>\u001b[0m in \u001b[0;36mmain\u001b[1;34m()\u001b[0m\n\u001b[0;32m     37\u001b[0m         \u001b[0mt\u001b[0m\u001b[1;33m.\u001b[0m\u001b[0mstart\u001b[0m\u001b[1;33m(\u001b[0m\u001b[1;33m)\u001b[0m\u001b[1;33m\u001b[0m\u001b[0m\n\u001b[0;32m     38\u001b[0m \u001b[1;33m\u001b[0m\u001b[0m\n\u001b[1;32m---> 39\u001b[1;33m     \u001b[0mtime\u001b[0m\u001b[1;33m.\u001b[0m\u001b[0msleep\u001b[0m\u001b[1;33m(\u001b[0m\u001b[1;36m10\u001b[0m\u001b[1;33m)\u001b[0m\u001b[1;33m\u001b[0m\u001b[0m\n\u001b[0m\u001b[0;32m     40\u001b[0m \u001b[1;33m\u001b[0m\u001b[0m\n\u001b[0;32m     41\u001b[0m \u001b[1;32mif\u001b[0m \u001b[0m__name__\u001b[0m \u001b[1;33m==\u001b[0m \u001b[1;34m\"__main__\"\u001b[0m\u001b[1;33m:\u001b[0m\u001b[1;33m\u001b[0m\u001b[0m\n",
      "\u001b[1;31mKeyboardInterrupt\u001b[0m: "
     ]
    }
   ],
   "source": [
    "import threading, logging, time\n",
    "\n",
    "from kafka import KafkaConsumer, KafkaProducer\n",
    "\n",
    "\n",
    "class Producer(threading.Thread):\n",
    "    daemon = True\n",
    "\n",
    "    def run(self):\n",
    "        producer = KafkaProducer(bootstrap_servers='localhost:9092')\n",
    "\n",
    "        while True:\n",
    "            producer.send('my-topic', b\"test\")\n",
    "            producer.send('my-topic', b\"\\xc2Hola, mundo!\")\n",
    "            time.sleep(1)\n",
    "\n",
    "\n",
    "class Consumer(threading.Thread):\n",
    "    daemon = True\n",
    "\n",
    "    def run(self):\n",
    "        consumer = KafkaConsumer(bootstrap_servers='localhost:9092',\n",
    "                                 auto_offset_reset='earliest')\n",
    "        consumer.subscribe(['my-topic'])\n",
    "\n",
    "        for message in consumer:\n",
    "            print (message)\n",
    "\n",
    "\n",
    "def main():\n",
    "    threads = [\n",
    "        Producer(),\n",
    "        Consumer()\n",
    "    ]\n",
    "\n",
    "    for t in threads:\n",
    "        t.start()\n",
    "\n",
    "    time.sleep(10)\n",
    "\n",
    "if __name__ == \"__main__\":\n",
    "    logging.basicConfig(\n",
    "        format='%(asctime)s.%(msecs)s:%(name)s:%(thread)d:%(levelname)s:%(process)d:%(message)s',\n",
    "        level=logging.INFO\n",
    "        )\n",
    "    main()"
   ]
  },
  {
   "cell_type": "code",
   "execution_count": null,
   "metadata": {
    "collapsed": true
   },
   "outputs": [],
   "source": []
  }
 ],
 "metadata": {
  "kernelspec": {
   "display_name": "Python 2",
   "language": "python",
   "name": "python2"
  },
  "language_info": {
   "codemirror_mode": {
    "name": "ipython",
    "version": 2
   },
   "file_extension": ".py",
   "mimetype": "text/x-python",
   "name": "python",
   "nbconvert_exporter": "python",
   "pygments_lexer": "ipython2",
   "version": "2.7.5"
  }
 },
 "nbformat": 4,
 "nbformat_minor": 0
}
