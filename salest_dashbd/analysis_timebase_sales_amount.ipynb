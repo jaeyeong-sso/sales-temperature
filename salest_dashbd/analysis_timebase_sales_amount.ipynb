{
 "cells": [
  {
   "cell_type": "code",
   "execution_count": 35,
   "metadata": {
    "collapsed": false
   },
   "outputs": [
    {
     "data": {
      "text/plain": [
       "{'date_count': {'10': 6,\n",
       "  '11': 5,\n",
       "  '12': 7,\n",
       "  '13': 9,\n",
       "  '14': 8,\n",
       "  '15': 10,\n",
       "  '16': 9,\n",
       "  '17': 9,\n",
       "  '18': 7,\n",
       "  '19': 9,\n",
       "  '20': 8,\n",
       "  '21': 10,\n",
       "  '22': 9,\n",
       "  '23': 6},\n",
       " 'num_of_transaction': {'10': 27,\n",
       "  '11': 28,\n",
       "  '12': 23,\n",
       "  '13': 60,\n",
       "  '14': 67,\n",
       "  '15': 61,\n",
       "  '16': 33,\n",
       "  '17': 56,\n",
       "  '18': 26,\n",
       "  '19': 57,\n",
       "  '20': 53,\n",
       "  '21': 43,\n",
       "  '22': 44,\n",
       "  '23': 29},\n",
       " 'total_amount': {'10': 15866,\n",
       "  '11': 16820,\n",
       "  '12': 11742,\n",
       "  '13': 23077,\n",
       "  '14': 26512,\n",
       "  '15': 20920,\n",
       "  '16': 11655,\n",
       "  '17': 18822,\n",
       "  '18': 14871,\n",
       "  '19': 19855,\n",
       "  '20': 27037,\n",
       "  '21': 16350,\n",
       "  '22': 20222,\n",
       "  '23': 13350}}"
      ]
     },
     "execution_count": 35,
     "metadata": {},
     "output_type": "execute_result"
    }
   ],
   "source": [
    "import pandas as pd\n",
    "from impala.dbapi import connect\n",
    "from impala.util import as_pandas\n",
    "import ast\n",
    "import math\n",
    "\n",
    "#################################################################################################################################\n",
    "# day_of_week : W-MON, W-TUE, W-WED, W-THU, W-FRI, W-SAT, W-SUN\n",
    "#################################################################################################################################\n",
    "def analysis_timebase_sales_amount(year, day_of_week):\n",
    "    \n",
    "    conn = connect(host='salest-master-server', port=21050)\n",
    "    cur = conn.cursor()\n",
    "\n",
    "    cur.execute('USE salest')\n",
    "    \n",
    "    start_date = \"%s/01/01\" % year\n",
    "    end_date = \"%s/12/31\" % year\n",
    "    \n",
    "    if(day_of_week=='All'):\n",
    "        target_date_idx = pd.date_range(start_date,end_date)\n",
    "    else:\n",
    "        target_date_idx = pd.date_range(start_date,end_date, freq=day_of_week)\n",
    "        \n",
    "    target_date_arr = target_date_idx.strftime('%Y-%m-%d')\n",
    "    target_date_tuple = tuple(target_date_arr)\n",
    "\n",
    "    cur.execute(\n",
    "        \"\"\"\n",
    "        SELECT time_hour, CAST(SUM(sales_amount) as INTEGER) AS total_amount, \n",
    "        COUNT(sales_amount) as num_of_transaction,\n",
    "        COUNT(DISTINCT year_month_day) as date_count\n",
    "        FROM(\n",
    "            SELECT SUBSTR(date_receipt_num,1,10) AS year_month_day,\n",
    "            SUBSTR(tr_time,1,2) AS time_hour,\n",
    "            sales_amount\n",
    "            FROM ext_tr_receipt WHERE SUBSTR(date_receipt_num,1,10) IN %s\n",
    "            \"\"\" % (target_date_tuple,) +\n",
    "            \"\"\"\n",
    "        ) view_tr_total_amount_by_dayofweek\n",
    "        GROUP BY time_hour ORDER BY time_hour ASC\n",
    "        \"\"\"\n",
    "    )\n",
    "    df_by_weekofday = as_pandas(cur)\n",
    "    conn.close()\n",
    "        \n",
    "    def calc_average_amount(row):\n",
    "        return row.total_amount / row.date_count\n",
    "\n",
    "    df_by_weekofday['total_amount'] = df_by_weekofday.apply(calc_average_amount,axis=1)\n",
    "    df_by_weekofday.set_index('time_hour',inplace=True)\n",
    "    \n",
    "    return df_by_weekofday.to_dict()\n",
    "\n",
    "\n",
    "analysis_timebase_sales_amount('2014','W-MON')"
   ]
  },
  {
   "cell_type": "code",
   "execution_count": null,
   "metadata": {
    "collapsed": true
   },
   "outputs": [],
   "source": []
  }
 ],
 "metadata": {
  "kernelspec": {
   "display_name": "Python 2",
   "language": "python",
   "name": "python2"
  },
  "language_info": {
   "codemirror_mode": {
    "name": "ipython",
    "version": 2
   },
   "file_extension": ".py",
   "mimetype": "text/x-python",
   "name": "python",
   "nbconvert_exporter": "python",
   "pygments_lexer": "ipython2",
   "version": "2.7.5"
  }
 },
 "nbformat": 4,
 "nbformat_minor": 0
}
